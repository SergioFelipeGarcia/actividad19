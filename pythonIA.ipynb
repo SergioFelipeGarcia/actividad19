{
 "cells": [
  {
   "cell_type": "markdown",
   "id": "9d12cee7",
   "metadata": {},
   "source": [
    "Python en IA\n",
    "https://aprendeia.com/agrupando-los-datos-con-python/\n",
    "https://www.analyticslane.com/2018/07/06/agrupacion-de-datos-por-fecha-en-pandas/"
   ]
  },
  {
   "cell_type": "markdown",
   "id": "4bf2f140",
   "metadata": {},
   "source": [
    "Reto: dibuja un gráfico en donde muestres info en base a esos rangos/grupos.\n",
    "diseña un gráfico de barras para mostrar la media de datos por trimestre"
   ]
  },
  {
   "cell_type": "code",
   "execution_count": 8,
   "id": "82086272",
   "metadata": {},
   "outputs": [
    {
     "name": "stdout",
     "output_type": "stream",
     "text": [
      "    productID                      productName  supplierID  categoryID  \\\n",
      "0           1                             Chai           1           1   \n",
      "1           2                            Chang           1           1   \n",
      "2           3                    Aniseed Syrup           1           2   \n",
      "3           4     Chef Anton's Cajun Seasoning           2           2   \n",
      "4           5           Chef Anton's Gumbo Mix           2           2   \n",
      "..        ...                              ...         ...         ...   \n",
      "72         73                       Röd Kaviar          17           8   \n",
      "73         74                    Longlife Tofu           4           7   \n",
      "74         75             Rhönbräu Klosterbier          12           1   \n",
      "75         76                     Lakkalikööri          23           1   \n",
      "76         77  Original Frankfurter grüne Soße          12           2   \n",
      "\n",
      "        quantityPerUnit  unitPrice  unitsInStock  unitsOnOrder  reorderLevel  \\\n",
      "0    10 boxes x 20 bags      18.00            39             0            10   \n",
      "1    24 - 12 oz bottles      19.00            17            40            25   \n",
      "2   12 - 550 ml bottles      10.00            13            70            25   \n",
      "3        48 - 6 oz jars      22.00            53             0             0   \n",
      "4              36 boxes      21.35             0             0             0   \n",
      "..                  ...        ...           ...           ...           ...   \n",
      "72      24 - 150 g jars      15.00           101             0             5   \n",
      "73            5 kg pkg.      10.00             4            20             5   \n",
      "74   24 - 0.5 l bottles       7.75           125             0            25   \n",
      "75               500 ml      18.00            57             0            20   \n",
      "76             12 boxes      13.00            32             0            15   \n",
      "\n",
      "    discontinued  \n",
      "0              0  \n",
      "1              0  \n",
      "2              0  \n",
      "3              0  \n",
      "4              1  \n",
      "..           ...  \n",
      "72             0  \n",
      "73             0  \n",
      "74             0  \n",
      "75             0  \n",
      "76             0  \n",
      "\n",
      "[77 rows x 10 columns]\n",
      "0        (0.0, 50.0]\n",
      "1        (0.0, 50.0]\n",
      "2        (0.0, 50.0]\n",
      "3      (50.0, 100.0]\n",
      "4                NaN\n",
      "           ...      \n",
      "72    (100.0, 500.0]\n",
      "73       (0.0, 50.0]\n",
      "74    (100.0, 500.0]\n",
      "75     (50.0, 100.0]\n",
      "76       (0.0, 50.0]\n",
      "Name: unitsInStock, Length: 77, dtype: category\n",
      "Categories (3, interval[int64, right]): [(0, 50] < (50, 100] < (100, 500]]\n"
     ]
    },
    {
     "name": "stderr",
     "output_type": "stream",
     "text": [
      "C:\\Users\\Tecnicos\\AppData\\Local\\Temp\\ipykernel_206704\\830883408.py:7: SettingWithCopyWarning: \n",
      "A value is trying to be set on a copy of a slice from a DataFrame.\n",
      "Try using .loc[row_indexer,col_indexer] = value instead\n",
      "\n",
      "See the caveats in the documentation: https://pandas.pydata.org/pandas-docs/stable/user_guide/indexing.html#returning-a-view-versus-a-copy\n",
      "  df[\"unitsInStock\"]=pd.cut(df[\"unitsInStock\"],bins,grupos)\n"
     ]
    },
    {
     "ename": "NameError",
     "evalue": "name 'plt' is not defined",
     "output_type": "error",
     "traceback": [
      "\u001b[1;31m---------------------------------------------------------------------------\u001b[0m",
      "\u001b[1;31mNameError\u001b[0m                                 Traceback (most recent call last)",
      "\u001b[1;32m~\\AppData\\Local\\Temp\\ipykernel_206704\\830883408.py\u001b[0m in \u001b[0;36m<module>\u001b[1;34m\u001b[0m\n\u001b[0;32m      8\u001b[0m \u001b[0mprint\u001b[0m\u001b[1;33m(\u001b[0m\u001b[0mdf\u001b[0m\u001b[1;33m[\u001b[0m\u001b[1;34m\"unitsInStock\"\u001b[0m\u001b[1;33m]\u001b[0m\u001b[1;33m)\u001b[0m\u001b[1;33m\u001b[0m\u001b[1;33m\u001b[0m\u001b[0m\n\u001b[0;32m      9\u001b[0m \u001b[0mdf\u001b[0m\u001b[1;33m.\u001b[0m\u001b[0munitsInStock\u001b[0m\u001b[1;33m.\u001b[0m\u001b[0mvalue_counts\u001b[0m\u001b[1;33m(\u001b[0m\u001b[1;33m)\u001b[0m\u001b[1;33m.\u001b[0m\u001b[0mplot\u001b[0m\u001b[1;33m.\u001b[0m\u001b[0mpie\u001b[0m\u001b[1;33m(\u001b[0m\u001b[1;33m)\u001b[0m\u001b[1;33m\u001b[0m\u001b[1;33m\u001b[0m\u001b[0m\n\u001b[1;32m---> 10\u001b[1;33m \u001b[0mplt\u001b[0m\u001b[1;33m.\u001b[0m\u001b[0mshow\u001b[0m\u001b[1;33m(\u001b[0m\u001b[1;33m)\u001b[0m\u001b[1;33m\u001b[0m\u001b[1;33m\u001b[0m\u001b[0m\n\u001b[0m",
      "\u001b[1;31mNameError\u001b[0m: name 'plt' is not defined"
     ]
    },
    {
     "data": {
      "image/png": "[encoded data removed]",
      "text/plain": [
       "<Figure size 640x480 with 1 Axes>"
      ]
     },
     "metadata": {},
     "output_type": "display_data"
    }
   ],
   "source": [
    "import pandas as pd\n",
    "productos=pd.read_csv(\"products.csv\")\n",
    "print(productos)\n",
    "bins=[0,50,100,500]\n",
    "grupos=[\"stock crítico\",\"stock normal\",\"stock\"]\n",
    "df=productos[[\"unitsInStock\"]]\n",
    "df[\"unitsInStock\"]=pd.cut(df[\"unitsInStock\"],bins,grupos)\n",
    "print(df[\"unitsInStock\"])\n",
    "df.unitsInStock.value_counts().plot.pie()\n",
    "plt.show()"
   ]
  },
  {
   "cell_type": "code",
   "execution_count": 7,
   "id": "98709b55",
   "metadata": {
    "scrolled": false
   },
   "outputs": [
    {
     "name": "stdout",
     "output_type": "stream",
     "text": [
      "date\n",
      "2018-01-01   2018-01-01\n",
      "2018-01-02   2018-01-02\n",
      "2018-01-03   2018-01-03\n",
      "2018-01-04   2018-01-04\n",
      "2018-01-05   2018-01-05\n",
      "                ...    \n",
      "2018-12-27   2018-12-27\n",
      "2018-12-28   2018-12-28\n",
      "2018-12-29   2018-12-29\n",
      "2018-12-30   2018-12-30\n",
      "2018-12-31   2018-12-31\n",
      "Name: date, Length: 365, dtype: datetime64[ns]\n",
      "date\n",
      "2018-01-01    30\n",
      "2018-01-02    63\n",
      "2018-01-03    17\n",
      "2018-01-04    27\n",
      "2018-01-05     2\n",
      "              ..\n",
      "2018-12-27    83\n",
      "2018-12-28    82\n",
      "2018-12-29    67\n",
      "2018-12-30    82\n",
      "2018-12-31     3\n",
      "Name: value, Length: 365, dtype: int32\n"
     ]
    },
    {
     "data": {
      "text/plain": [
       "<AxesSubplot:ylabel='date'>"
      ]
     },
     "execution_count": 7,
     "metadata": {},
     "output_type": "execute_result"
    },
    {
     "data": {
      "image/png": "[encoded data removed]",
      "text/plain": [
       "<Figure size 640x480 with 1 Axes>"
      ]
     },
     "metadata": {},
     "output_type": "display_data"
    }
   ],
   "source": [
    "import datetime\n",
    "import numpy as np\n",
    "import pandas as pd\n",
    "df = pd.DataFrame()\n",
    "date = [datetime.datetime(2018, 1, 1) + datetime.timedelta(days=x) for x in range(0, 365)]\n",
    "value = list(np.random.randint(low=0, high=100, size=365))\n",
    "df['date'] = pd.to_datetime(date)\n",
    "df.index = df['date']\n",
    "df['value'] = value\n",
    "print(df['date'])\n",
    "print(df['value'])\n",
    "\n",
    "x=df.groupby(df['date'].dt.quarter).mean()\n",
    "x.plot.barh()"
   ]
  },
  {
   "cell_type": "code",
   "execution_count": null,
   "id": "dd0df78b",
   "metadata": {},
   "outputs": [],
   "source": []
  }
 ],
 "metadata": {
  "kernelspec": {
   "display_name": "Python 3 (ipykernel)",
   "language": "python",
   "name": "python3"
  },
  "language_info": {
   "codemirror_mode": {
    "name": "ipython",
    "version": 3
   },
   "file_extension": ".py",
   "mimetype": "text/x-python",
   "name": "python",
   "nbconvert_exporter": "python",
   "pygments_lexer": "ipython3",
   "version": "3.9.13"
  }
 },
 "nbformat": 4,
 "nbformat_minor": 5
}
